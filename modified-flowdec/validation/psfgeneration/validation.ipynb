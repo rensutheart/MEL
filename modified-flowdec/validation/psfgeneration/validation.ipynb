{
 "cells": [
  {
   "cell_type": "markdown",
   "metadata": {},
   "source": [
    "# PSF Generation Validation\n",
    "\n",
    "This validation process involves the following:\n",
    "\n",
    "- Determine a set of PSF configurations to test\n",
    "- Create a PSF for each of those configurations using both Flowdec and PSFGenerator\n",
    "- Store any more detailed visualizations/statistics in a separate notebook for each configuration\n",
    "- Aggregate top-line statistics like SSIM and PSNR to visualize across all configurations"
   ]
  },
  {
   "cell_type": "code",
   "execution_count": 46,
   "metadata": {},
   "outputs": [],
   "source": [
    "import papermill as pm\n",
    "import os\n",
    "import os.path as osp\n",
    "import pandas as pd\n",
    "from flowdec import psf as fd_psf\n",
    "nb_dir = 'results'"
   ]
  },
  {
   "cell_type": "code",
   "execution_count": 47,
   "metadata": {},
   "outputs": [
    {
     "name": "stdout",
     "output_type": "stream",
     "text": [
      "usage: ipykernel_launcher.py [-h] [--size-x SIZE_X] [--size-y SIZE_Y]\n",
      "                             [--size-z SIZE_Z] [--na NA]\n",
      "                             [--wavelength WAVELENGTH] [--m M] [--ns NS]\n",
      "                             [--ng0 NG0] [--ng NG] [--ni0 NI0] [--ni NI]\n",
      "                             [--ti0 TI0] [--tg0 TG0] [--tg TG]\n",
      "                             [--res-lateral RES_LATERAL]\n",
      "                             [--res-axial RES_AXIAL] [--pz PZ]\n",
      "                             [--num-basis NUM_BASIS]\n",
      "                             [--num-samples NUM_SAMPLES]\n",
      "                             [--oversampling OVERSAMPLING]\n",
      "                             [--min-wavelength MIN_WAVELENGTH]\n",
      "\n",
      "optional arguments:\n",
      "  -h, --help            show this help message and exit\n",
      "\n",
      "Dimensions:\n",
      "  --size-x SIZE_X       Number of pixels in result (x dimension) (default:\n",
      "                        256)\n",
      "  --size-y SIZE_Y       Number of pixels in result (y dimension) (default:\n",
      "                        256)\n",
      "  --size-z SIZE_Z       Number of pixels in result (z dimension) (default:\n",
      "                        128)\n",
      "\n",
      "Microscope Parameters:\n",
      "  --na NA               Numerical aperture of device (default: 1.4)\n",
      "  --wavelength WAVELENGTH\n",
      "                        Wavelength of emitted light in vacuum (microns)\n",
      "                        (default: 0.61)\n",
      "  --m M                 Magnification factor (default: 100)\n",
      "  --ns NS               Specimen refractive index (RI) (default: 1.33)\n",
      "  --ng0 NG0             Coverslip RI, design value (default: 1.5)\n",
      "  --ng NG               Coverslip RI, experimental (defaults to ng0 if not\n",
      "                        given) (default: None)\n",
      "  --ni0 NI0             Immersion RI, design value (default: 1.5)\n",
      "  --ni NI               Immersion RI, experimental (defaults to ni0 if not\n",
      "                        given) (default: None)\n",
      "  --ti0 TI0             Working distance (microns) (default: 150)\n",
      "  --tg0 TG0             Coverslip thickness, design value (microns) (default:\n",
      "                        170)\n",
      "  --tg TG               Coverslip thickness, experimental (microns) (defaults\n",
      "                        to tg0 if not given) (default: None)\n",
      "  --res-lateral RES_LATERAL\n",
      "                        Lateral pizel size / resolution (microns) (default:\n",
      "                        0.1)\n",
      "  --res-axial RES_AXIAL\n",
      "                        Axial pizel size / resolution (microns) (default:\n",
      "                        0.25)\n",
      "  --pz PZ               Particle distance from coverslip (microns) (default:\n",
      "                        2)\n",
      "\n",
      "Precision Parameters:\n",
      "  --num-basis NUM_BASIS\n",
      "                        Number of rescaled Bessels that approximate the phase\n",
      "                        function (default: 100)\n",
      "  --num-samples NUM_SAMPLES\n",
      "                        Number of pupil samples along radial direction\n",
      "                        (default: 1000)\n",
      "  --oversampling OVERSAMPLING\n",
      "                        Defines the upsampling ratio on the image space grid\n",
      "                        for computations (default: 2)\n",
      "  --min-wavelength MIN_WAVELENGTH\n",
      "                        Reference wavelength used in computation of scaling\n",
      "                        factor (microns); See section titled 'B. Bessel series\n",
      "                        approximation' in [1] for more details (default:\n",
      "                        0.436)\n"
     ]
    }
   ],
   "source": [
    "# Show default arguments and use these to derive test cases\n",
    "fd_psf.GibsonLanni().get_arg_parser().print_help()"
   ]
  },
  {
   "cell_type": "code",
   "execution_count": 3,
   "metadata": {},
   "outputs": [],
   "source": [
    "# Build test case argument sets\n",
    "\n",
    "args = [\n",
    "    {\n",
    "        'name': 'particle-pos-p1um',\n",
    "        # \"num_samples\" is increased here from default of 1000\n",
    "        # because approximations are significantly further off otherwise\n",
    "        'args': {'psf_args': '{\"pz\": 1.0, \"num_samples\": 2000}'}   \n",
    "    }, {\n",
    "        'name': 'particle-pos-n1um',\n",
    "        'args': {'psf_args': '{\"pz\": -1.0, \"num_samples\": 2000}'}   \n",
    "    }, {\n",
    "        'name': 'red-light',\n",
    "        'args': {'psf_args': '{\"pz\": 0.0, \"wavelength\": 0.7}'}   \n",
    "    }, {\n",
    "        'name': 'blue-light',\n",
    "        # \"min_wavelength\" is lowered here from default of .436 microns\n",
    "        # because approximations are significantly further off otherwise\n",
    "        'args': {'psf_args': '{\"pz\": 0.0, \"wavelength\": 0.45, \"min_wavelength\": 0.35}'}   \n",
    "    }, {\n",
    "        'name': 'green-light',\n",
    "        'args': {'psf_args': '{\"pz\": 0.0, \"wavelength\": 0.55, \"min_wavelength\": 0.35}'}   \n",
    "    }, {\n",
    "        'name': 'low-zres',\n",
    "        'args': {'psf_args': '{\"pz\": 0.0, \"res_axial\": 1.5, \"num_samples\": 2000}'}   \n",
    "    }, {\n",
    "        'name': 'hi-zres',\n",
    "        'args': {'psf_args': '{\"pz\": 0.0, \"res_axial\": 0.1}'}   \n",
    "    }, {\n",
    "        'name': 'large-xy',\n",
    "        'args': {'psf_args': '{\"pz\": 0.0, \"size_x\": 512, \"size_y\": 400, \"size_z\": 16}'}   \n",
    "    }, {\n",
    "        'name': 'large-z',\n",
    "        'args': {'psf_args': '{\"pz\": 0.0, \"size_x\": 32, \"size_y\": 64, \"size_z\": 128}'}   \n",
    "    },\n",
    "]"
   ]
  },
  {
   "cell_type": "code",
   "execution_count": 4,
   "metadata": {},
   "outputs": [
    {
     "name": "stdout",
     "output_type": "stream",
     "text": [
      "Executing comparisons for configuration \"particle-pos-p1um\"\n"
     ]
    },
    {
     "name": "stderr",
     "output_type": "stream",
     "text": [
      "Input Notebook:  template.ipynb\n",
      "Output Notebook: results/particle-pos-p1um.ipynb\n",
      "100%|██████████| 27/27 [00:40<00:00,  1.49s/it]\n"
     ]
    },
    {
     "name": "stdout",
     "output_type": "stream",
     "text": [
      "Executing comparisons for configuration \"particle-pos-n1um\"\n"
     ]
    },
    {
     "name": "stderr",
     "output_type": "stream",
     "text": [
      "Input Notebook:  template.ipynb\n",
      "Output Notebook: results/particle-pos-n1um.ipynb\n",
      "100%|██████████| 27/27 [00:39<00:00,  1.47s/it]\n"
     ]
    },
    {
     "name": "stdout",
     "output_type": "stream",
     "text": [
      "Executing comparisons for configuration \"red-light\"\n"
     ]
    },
    {
     "name": "stderr",
     "output_type": "stream",
     "text": [
      "Input Notebook:  template.ipynb\n",
      "Output Notebook: results/red-light.ipynb\n",
      "100%|██████████| 27/27 [00:34<00:00,  1.28s/it]\n"
     ]
    },
    {
     "name": "stdout",
     "output_type": "stream",
     "text": [
      "Executing comparisons for configuration \"blue-light\"\n"
     ]
    },
    {
     "name": "stderr",
     "output_type": "stream",
     "text": [
      "Input Notebook:  template.ipynb\n",
      "Output Notebook: results/blue-light.ipynb\n",
      "100%|██████████| 27/27 [00:42<00:00,  1.56s/it]\n"
     ]
    },
    {
     "name": "stdout",
     "output_type": "stream",
     "text": [
      "Executing comparisons for configuration \"green-light\"\n"
     ]
    },
    {
     "name": "stderr",
     "output_type": "stream",
     "text": [
      "Input Notebook:  template.ipynb\n",
      "Output Notebook: results/green-light.ipynb\n",
      "100%|██████████| 27/27 [00:38<00:00,  1.44s/it]\n"
     ]
    },
    {
     "name": "stdout",
     "output_type": "stream",
     "text": [
      "Executing comparisons for configuration \"low-zres\"\n"
     ]
    },
    {
     "name": "stderr",
     "output_type": "stream",
     "text": [
      "Input Notebook:  template.ipynb\n",
      "Output Notebook: results/low-zres.ipynb\n",
      "100%|██████████| 27/27 [01:32<00:00,  3.42s/it]\n"
     ]
    },
    {
     "name": "stdout",
     "output_type": "stream",
     "text": [
      "Executing comparisons for configuration \"hi-zres\"\n"
     ]
    },
    {
     "name": "stderr",
     "output_type": "stream",
     "text": [
      "Input Notebook:  template.ipynb\n",
      "Output Notebook: results/hi-zres.ipynb\n",
      "100%|██████████| 27/27 [00:31<00:00,  1.17s/it]\n"
     ]
    },
    {
     "name": "stdout",
     "output_type": "stream",
     "text": [
      "Executing comparisons for configuration \"large-xy\"\n"
     ]
    },
    {
     "name": "stderr",
     "output_type": "stream",
     "text": [
      "Input Notebook:  template.ipynb\n",
      "Output Notebook: results/large-xy.ipynb\n",
      "100%|██████████| 27/27 [00:15<00:00,  1.73it/s]\n"
     ]
    },
    {
     "name": "stdout",
     "output_type": "stream",
     "text": [
      "Executing comparisons for configuration \"large-z\"\n"
     ]
    },
    {
     "name": "stderr",
     "output_type": "stream",
     "text": [
      "Input Notebook:  template.ipynb\n",
      "Output Notebook: results/large-z.ipynb\n",
      "100%|██████████| 27/27 [00:11<00:00,  2.45it/s]\n"
     ]
    }
   ],
   "source": [
    "# Run a comparison process for each configuration defined above\n",
    "os.makedirs(nb_dir, exist_ok=True)\n",
    "for arg in args:\n",
    "    print('Executing comparisons for configuration \"{}\"'.format(arg['name']))\n",
    "    nb_template = 'template.ipynb'\n",
    "    out_path = osp.join(nb_dir, arg['name'] + '.ipynb')\n",
    "    pm.execute_notebook(nb_template, out_path, parameters=arg['args'])"
   ]
  },
  {
   "cell_type": "code",
   "execution_count": 5,
   "metadata": {},
   "outputs": [
    {
     "data": {
      "text/html": [
       "<div>\n",
       "<style scoped>\n",
       "    .dataframe tbody tr th:only-of-type {\n",
       "        vertical-align: middle;\n",
       "    }\n",
       "\n",
       "    .dataframe tbody tr th {\n",
       "        vertical-align: top;\n",
       "    }\n",
       "\n",
       "    .dataframe thead th {\n",
       "        text-align: right;\n",
       "    }\n",
       "</style>\n",
       "<table border=\"1\" class=\"dataframe\">\n",
       "  <thead>\n",
       "    <tr style=\"text-align: right;\">\n",
       "      <th></th>\n",
       "      <th>name</th>\n",
       "      <th>value</th>\n",
       "      <th>type</th>\n",
       "      <th>filename</th>\n",
       "      <th>key</th>\n",
       "    </tr>\n",
       "  </thead>\n",
       "  <tbody>\n",
       "    <tr>\n",
       "      <th>0</th>\n",
       "      <td>psf_args</td>\n",
       "      <td>{\"pz\": 0.0, \"wavelength\": 0.45, \"min_wavelengt...</td>\n",
       "      <td>parameter</td>\n",
       "      <td>blue-light.ipynb</td>\n",
       "      <td>blue-light</td>\n",
       "    </tr>\n",
       "    <tr>\n",
       "      <th>1</th>\n",
       "      <td>df_log</td>\n",
       "      <td>{'Diff': {'25%': -0.0016736984252929688, '50%'...</td>\n",
       "      <td>record</td>\n",
       "      <td>blue-light.ipynb</td>\n",
       "      <td>blue-light</td>\n",
       "    </tr>\n",
       "    <tr>\n",
       "      <th>2</th>\n",
       "      <td>df_original</td>\n",
       "      <td>{'Diff': {'25%': -7.486232789233327e-08, '50%'...</td>\n",
       "      <td>record</td>\n",
       "      <td>blue-light.ipynb</td>\n",
       "      <td>blue-light</td>\n",
       "    </tr>\n",
       "    <tr>\n",
       "      <th>3</th>\n",
       "      <td>measures</td>\n",
       "      <td>{'psnr_log': 40.984099215285056, 'psnr_origina...</td>\n",
       "      <td>record</td>\n",
       "      <td>blue-light.ipynb</td>\n",
       "      <td>blue-light</td>\n",
       "    </tr>\n",
       "    <tr>\n",
       "      <th>4</th>\n",
       "      <td>psf_args</td>\n",
       "      <td>{\"pz\": 0.0, \"wavelength\": 0.55, \"min_wavelengt...</td>\n",
       "      <td>parameter</td>\n",
       "      <td>green-light.ipynb</td>\n",
       "      <td>green-light</td>\n",
       "    </tr>\n",
       "  </tbody>\n",
       "</table>\n",
       "</div>"
      ],
      "text/plain": [
       "          name                                              value       type  \\\n",
       "0     psf_args  {\"pz\": 0.0, \"wavelength\": 0.45, \"min_wavelengt...  parameter   \n",
       "1       df_log  {'Diff': {'25%': -0.0016736984252929688, '50%'...     record   \n",
       "2  df_original  {'Diff': {'25%': -7.486232789233327e-08, '50%'...     record   \n",
       "3     measures  {'psnr_log': 40.984099215285056, 'psnr_origina...     record   \n",
       "4     psf_args  {\"pz\": 0.0, \"wavelength\": 0.55, \"min_wavelengt...  parameter   \n",
       "\n",
       "            filename          key  \n",
       "0   blue-light.ipynb   blue-light  \n",
       "1   blue-light.ipynb   blue-light  \n",
       "2   blue-light.ipynb   blue-light  \n",
       "3   blue-light.ipynb   blue-light  \n",
       "4  green-light.ipynb  green-light  "
      ]
     },
     "execution_count": 5,
     "metadata": {},
     "output_type": "execute_result"
    }
   ],
   "source": [
    "# Aggregate results across all configurations\n",
    "df = pm.read_notebooks(nb_dir).dataframe\n",
    "df['key'] = df['key'].apply(lambda v: v.replace('.ipynb', ''))\n",
    "df.head()"
   ]
  },
  {
   "cell_type": "code",
   "execution_count": 6,
   "metadata": {},
   "outputs": [
    {
     "data": {
      "text/html": [
       "<div>\n",
       "<style scoped>\n",
       "    .dataframe tbody tr th:only-of-type {\n",
       "        vertical-align: middle;\n",
       "    }\n",
       "\n",
       "    .dataframe tbody tr th {\n",
       "        vertical-align: top;\n",
       "    }\n",
       "\n",
       "    .dataframe thead th {\n",
       "        text-align: right;\n",
       "    }\n",
       "</style>\n",
       "<table border=\"1\" class=\"dataframe\">\n",
       "  <thead>\n",
       "    <tr style=\"text-align: right;\">\n",
       "      <th></th>\n",
       "      <th>value</th>\n",
       "      <th>key</th>\n",
       "    </tr>\n",
       "  </thead>\n",
       "  <tbody>\n",
       "    <tr>\n",
       "      <th>psnr_log</th>\n",
       "      <td>40.984099</td>\n",
       "      <td>blue-light</td>\n",
       "    </tr>\n",
       "    <tr>\n",
       "      <th>psnr_original</th>\n",
       "      <td>116.153428</td>\n",
       "      <td>blue-light</td>\n",
       "    </tr>\n",
       "    <tr>\n",
       "      <th>ssim_log</th>\n",
       "      <td>0.998636</td>\n",
       "      <td>blue-light</td>\n",
       "    </tr>\n",
       "    <tr>\n",
       "      <th>ssim_original</th>\n",
       "      <td>1.000000</td>\n",
       "      <td>blue-light</td>\n",
       "    </tr>\n",
       "    <tr>\n",
       "      <th>psnr_log</th>\n",
       "      <td>66.781530</td>\n",
       "      <td>green-light</td>\n",
       "    </tr>\n",
       "  </tbody>\n",
       "</table>\n",
       "</div>"
      ],
      "text/plain": [
       "                    value          key\n",
       "psnr_log        40.984099   blue-light\n",
       "psnr_original  116.153428   blue-light\n",
       "ssim_log         0.998636   blue-light\n",
       "ssim_original    1.000000   blue-light\n",
       "psnr_log        66.781530  green-light"
      ]
     },
     "execution_count": 6,
     "metadata": {},
     "output_type": "execute_result"
    }
   ],
   "source": [
    "def extract_series(df, prop):\n",
    "    df = df[df['name'] == prop].set_index('key')\n",
    "    return pd.concat([pd.Series(r['value']).rename('value').to_frame().assign(key=k) for k, r in df.iterrows()])\n",
    "df_meas = extract_series(df, 'measures')\n",
    "df_meas.head()"
   ]
  },
  {
   "cell_type": "markdown",
   "metadata": {},
   "source": [
    "## Scores\n",
    "\n",
    "This table shows SSIM and PSNR scores (between Flowdec and PSFGenerator) on the original PSF image scale as well as a logarithmic scale:"
   ]
  },
  {
   "cell_type": "markdown",
   "metadata": {},
   "source": [
    "**SSIM**"
   ]
  },
  {
   "cell_type": "code",
   "execution_count": 28,
   "metadata": {},
   "outputs": [
    {
     "data": {
      "text/html": [
       "<div>\n",
       "<style scoped>\n",
       "    .dataframe tbody tr th:only-of-type {\n",
       "        vertical-align: middle;\n",
       "    }\n",
       "\n",
       "    .dataframe tbody tr th {\n",
       "        vertical-align: top;\n",
       "    }\n",
       "\n",
       "    .dataframe thead th {\n",
       "        text-align: right;\n",
       "    }\n",
       "</style>\n",
       "<table border=\"1\" class=\"dataframe\">\n",
       "  <thead>\n",
       "    <tr style=\"text-align: right;\">\n",
       "      <th></th>\n",
       "      <th>ssim_log_scale</th>\n",
       "      <th>ssim_original_scale</th>\n",
       "    </tr>\n",
       "    <tr>\n",
       "      <th>key</th>\n",
       "      <th></th>\n",
       "      <th></th>\n",
       "    </tr>\n",
       "  </thead>\n",
       "  <tbody>\n",
       "    <tr>\n",
       "      <th>blue-light</th>\n",
       "      <td>0.998636</td>\n",
       "      <td>1.0</td>\n",
       "    </tr>\n",
       "    <tr>\n",
       "      <th>green-light</th>\n",
       "      <td>0.999990</td>\n",
       "      <td>1.0</td>\n",
       "    </tr>\n",
       "    <tr>\n",
       "      <th>hi-zres</th>\n",
       "      <td>1.000000</td>\n",
       "      <td>1.0</td>\n",
       "    </tr>\n",
       "    <tr>\n",
       "      <th>large-xy</th>\n",
       "      <td>1.000000</td>\n",
       "      <td>1.0</td>\n",
       "    </tr>\n",
       "    <tr>\n",
       "      <th>large-z</th>\n",
       "      <td>1.000000</td>\n",
       "      <td>1.0</td>\n",
       "    </tr>\n",
       "    <tr>\n",
       "      <th>low-zres</th>\n",
       "      <td>0.999932</td>\n",
       "      <td>1.0</td>\n",
       "    </tr>\n",
       "    <tr>\n",
       "      <th>particle-pos-n1um</th>\n",
       "      <td>0.999886</td>\n",
       "      <td>1.0</td>\n",
       "    </tr>\n",
       "    <tr>\n",
       "      <th>particle-pos-p1um</th>\n",
       "      <td>0.999886</td>\n",
       "      <td>1.0</td>\n",
       "    </tr>\n",
       "    <tr>\n",
       "      <th>red-light</th>\n",
       "      <td>1.000000</td>\n",
       "      <td>1.0</td>\n",
       "    </tr>\n",
       "  </tbody>\n",
       "</table>\n",
       "</div>"
      ],
      "text/plain": [
       "                   ssim_log_scale  ssim_original_scale\n",
       "key                                                   \n",
       "blue-light               0.998636                  1.0\n",
       "green-light              0.999990                  1.0\n",
       "hi-zres                  1.000000                  1.0\n",
       "large-xy                 1.000000                  1.0\n",
       "large-z                  1.000000                  1.0\n",
       "low-zres                 0.999932                  1.0\n",
       "particle-pos-n1um        0.999886                  1.0\n",
       "particle-pos-p1um        0.999886                  1.0\n",
       "red-light                1.000000                  1.0"
      ]
     },
     "execution_count": 28,
     "metadata": {},
     "output_type": "execute_result"
    }
   ],
   "source": [
    "pd.concat([\n",
    "    df_meas.loc['ssim_log'].set_index('key')['value'].rename('ssim_log_scale'),\n",
    "    df_meas.loc['ssim_original'].set_index('key')['value'].rename('ssim_original_scale')\n",
    "], axis=1)"
   ]
  },
  {
   "cell_type": "markdown",
   "metadata": {},
   "source": [
    "**PSNR**"
   ]
  },
  {
   "cell_type": "code",
   "execution_count": 45,
   "metadata": {},
   "outputs": [
    {
     "data": {
      "text/html": [
       "<div>\n",
       "<style scoped>\n",
       "    .dataframe tbody tr th:only-of-type {\n",
       "        vertical-align: middle;\n",
       "    }\n",
       "\n",
       "    .dataframe tbody tr th {\n",
       "        vertical-align: top;\n",
       "    }\n",
       "\n",
       "    .dataframe thead th {\n",
       "        text-align: right;\n",
       "    }\n",
       "</style>\n",
       "<table border=\"1\" class=\"dataframe\">\n",
       "  <thead>\n",
       "    <tr style=\"text-align: right;\">\n",
       "      <th></th>\n",
       "      <th>psnr_log_scale</th>\n",
       "      <th>psnr_original_scale</th>\n",
       "    </tr>\n",
       "    <tr>\n",
       "      <th>key</th>\n",
       "      <th></th>\n",
       "      <th></th>\n",
       "    </tr>\n",
       "  </thead>\n",
       "  <tbody>\n",
       "    <tr>\n",
       "      <th>blue-light</th>\n",
       "      <td>40.984099</td>\n",
       "      <td>116.153428</td>\n",
       "    </tr>\n",
       "    <tr>\n",
       "      <th>green-light</th>\n",
       "      <td>66.781530</td>\n",
       "      <td>128.495587</td>\n",
       "    </tr>\n",
       "    <tr>\n",
       "      <th>hi-zres</th>\n",
       "      <td>159.330339</td>\n",
       "      <td>200.770418</td>\n",
       "    </tr>\n",
       "    <tr>\n",
       "      <th>large-xy</th>\n",
       "      <td>144.351244</td>\n",
       "      <td>205.861848</td>\n",
       "    </tr>\n",
       "    <tr>\n",
       "      <th>large-z</th>\n",
       "      <td>83.021613</td>\n",
       "      <td>137.138291</td>\n",
       "    </tr>\n",
       "    <tr>\n",
       "      <th>low-zres</th>\n",
       "      <td>65.626906</td>\n",
       "      <td>113.602541</td>\n",
       "    </tr>\n",
       "    <tr>\n",
       "      <th>particle-pos-n1um</th>\n",
       "      <td>44.805171</td>\n",
       "      <td>121.536585</td>\n",
       "    </tr>\n",
       "    <tr>\n",
       "      <th>particle-pos-p1um</th>\n",
       "      <td>44.805171</td>\n",
       "      <td>121.536585</td>\n",
       "    </tr>\n",
       "    <tr>\n",
       "      <th>red-light</th>\n",
       "      <td>108.406498</td>\n",
       "      <td>161.949216</td>\n",
       "    </tr>\n",
       "  </tbody>\n",
       "</table>\n",
       "</div>"
      ],
      "text/plain": [
       "                   psnr_log_scale  psnr_original_scale\n",
       "key                                                   \n",
       "blue-light              40.984099           116.153428\n",
       "green-light             66.781530           128.495587\n",
       "hi-zres                159.330339           200.770418\n",
       "large-xy               144.351244           205.861848\n",
       "large-z                 83.021613           137.138291\n",
       "low-zres                65.626906           113.602541\n",
       "particle-pos-n1um       44.805171           121.536585\n",
       "particle-pos-p1um       44.805171           121.536585\n",
       "red-light              108.406498           161.949216"
      ]
     },
     "execution_count": 45,
     "metadata": {},
     "output_type": "execute_result"
    }
   ],
   "source": [
    "pd.concat([\n",
    "    df_meas.loc['psnr_log'].set_index('key')['value'].rename('psnr_log_scale'),\n",
    "    df_meas.loc['psnr_original'].set_index('key')['value'].rename('psnr_original_scale')\n",
    "], axis=1)"
   ]
  },
  {
   "cell_type": "markdown",
   "metadata": {},
   "source": [
    "## Maximum Differences\n",
    "\n",
    "This section shows the maximum difference for any single voxel value between Flowdec and PSFGenerator PSFs versus the range of the original PSF images:"
   ]
  },
  {
   "cell_type": "code",
   "execution_count": 29,
   "metadata": {},
   "outputs": [],
   "source": [
    "def extract_df(df, prop):\n",
    "    df = df[df['name'] == prop].set_index('key')\n",
    "    return pd.concat([pd.DataFrame(r['value']).assign(key=k) for k, r in df.iterrows()])\n",
    "\n",
    "df_stat = extract_df(df, 'df_original')"
   ]
  },
  {
   "cell_type": "code",
   "execution_count": 39,
   "metadata": {},
   "outputs": [
    {
     "data": {
      "text/html": [
       "<div>\n",
       "<style scoped>\n",
       "    .dataframe tbody tr th:only-of-type {\n",
       "        vertical-align: middle;\n",
       "    }\n",
       "\n",
       "    .dataframe tbody tr th {\n",
       "        vertical-align: top;\n",
       "    }\n",
       "\n",
       "    .dataframe thead th {\n",
       "        text-align: right;\n",
       "    }\n",
       "</style>\n",
       "<table border=\"1\" class=\"dataframe\">\n",
       "  <thead>\n",
       "    <tr style=\"text-align: right;\">\n",
       "      <th></th>\n",
       "      <th>Fowdec PSF Max Value</th>\n",
       "      <th>flowdec PSF Min Value</th>\n",
       "      <th>PSFGenerator PSF Max Value</th>\n",
       "      <th>PSFGenerator PSF Max Value</th>\n",
       "      <th>Absolute Max Difference</th>\n",
       "    </tr>\n",
       "    <tr>\n",
       "      <th>key</th>\n",
       "      <th></th>\n",
       "      <th></th>\n",
       "      <th></th>\n",
       "      <th></th>\n",
       "      <th></th>\n",
       "    </tr>\n",
       "  </thead>\n",
       "  <tbody>\n",
       "    <tr>\n",
       "      <th>blue-light</th>\n",
       "      <td>1.0</td>\n",
       "      <td>9.857429e-10</td>\n",
       "      <td>1.0</td>\n",
       "      <td>9.857429e-10</td>\n",
       "      <td>4.638507e-05</td>\n",
       "    </tr>\n",
       "    <tr>\n",
       "      <th>green-light</th>\n",
       "      <td>1.0</td>\n",
       "      <td>6.726014e-10</td>\n",
       "      <td>1.0</td>\n",
       "      <td>6.726014e-10</td>\n",
       "      <td>2.790959e-05</td>\n",
       "    </tr>\n",
       "    <tr>\n",
       "      <th>hi-zres</th>\n",
       "      <td>1.0</td>\n",
       "      <td>3.078059e-10</td>\n",
       "      <td>1.0</td>\n",
       "      <td>3.078059e-10</td>\n",
       "      <td>2.980232e-08</td>\n",
       "    </tr>\n",
       "    <tr>\n",
       "      <th>large-xy</th>\n",
       "      <td>1.0</td>\n",
       "      <td>1.237140e-10</td>\n",
       "      <td>1.0</td>\n",
       "      <td>1.237140e-10</td>\n",
       "      <td>1.490116e-08</td>\n",
       "    </tr>\n",
       "    <tr>\n",
       "      <th>large-z</th>\n",
       "      <td>1.0</td>\n",
       "      <td>1.484220e-06</td>\n",
       "      <td>1.0</td>\n",
       "      <td>1.484220e-06</td>\n",
       "      <td>1.096936e-05</td>\n",
       "    </tr>\n",
       "    <tr>\n",
       "      <th>low-zres</th>\n",
       "      <td>1.0</td>\n",
       "      <td>4.496030e-08</td>\n",
       "      <td>1.0</td>\n",
       "      <td>4.496030e-08</td>\n",
       "      <td>1.301039e-04</td>\n",
       "    </tr>\n",
       "    <tr>\n",
       "      <th>particle-pos-n1um</th>\n",
       "      <td>1.0</td>\n",
       "      <td>7.155783e-10</td>\n",
       "      <td>1.0</td>\n",
       "      <td>7.155783e-10</td>\n",
       "      <td>1.077533e-03</td>\n",
       "    </tr>\n",
       "    <tr>\n",
       "      <th>particle-pos-p1um</th>\n",
       "      <td>1.0</td>\n",
       "      <td>7.155785e-10</td>\n",
       "      <td>1.0</td>\n",
       "      <td>7.155785e-10</td>\n",
       "      <td>1.077533e-03</td>\n",
       "    </tr>\n",
       "    <tr>\n",
       "      <th>red-light</th>\n",
       "      <td>1.0</td>\n",
       "      <td>2.110213e-09</td>\n",
       "      <td>1.0</td>\n",
       "      <td>2.110213e-09</td>\n",
       "      <td>1.150649e-06</td>\n",
       "    </tr>\n",
       "  </tbody>\n",
       "</table>\n",
       "</div>"
      ],
      "text/plain": [
       "                   Fowdec PSF Max Value  flowdec PSF Min Value  \\\n",
       "key                                                              \n",
       "blue-light                          1.0           9.857429e-10   \n",
       "green-light                         1.0           6.726014e-10   \n",
       "hi-zres                             1.0           3.078059e-10   \n",
       "large-xy                            1.0           1.237140e-10   \n",
       "large-z                             1.0           1.484220e-06   \n",
       "low-zres                            1.0           4.496030e-08   \n",
       "particle-pos-n1um                   1.0           7.155783e-10   \n",
       "particle-pos-p1um                   1.0           7.155785e-10   \n",
       "red-light                           1.0           2.110213e-09   \n",
       "\n",
       "                   PSFGenerator PSF Max Value  PSFGenerator PSF Max Value  \\\n",
       "key                                                                         \n",
       "blue-light                                1.0                9.857429e-10   \n",
       "green-light                               1.0                6.726014e-10   \n",
       "hi-zres                                   1.0                3.078059e-10   \n",
       "large-xy                                  1.0                1.237140e-10   \n",
       "large-z                                   1.0                1.484220e-06   \n",
       "low-zres                                  1.0                4.496030e-08   \n",
       "particle-pos-n1um                         1.0                7.155783e-10   \n",
       "particle-pos-p1um                         1.0                7.155785e-10   \n",
       "red-light                                 1.0                2.110213e-09   \n",
       "\n",
       "                   Absolute Max Difference  \n",
       "key                                         \n",
       "blue-light                    4.638507e-05  \n",
       "green-light                   2.790959e-05  \n",
       "hi-zres                       2.980232e-08  \n",
       "large-xy                      1.490116e-08  \n",
       "large-z                       1.096936e-05  \n",
       "low-zres                      1.301039e-04  \n",
       "particle-pos-n1um             1.077533e-03  \n",
       "particle-pos-p1um             1.077533e-03  \n",
       "red-light                     1.150649e-06  "
      ]
     },
     "execution_count": 39,
     "metadata": {},
     "output_type": "execute_result"
    }
   ],
   "source": [
    "df_extrema = pd.concat([\n",
    "    df_stat.loc['max'].set_index('key')['Diff'].rename('max_diff'),\n",
    "    df_stat.loc['min'].set_index('key')['Diff'].rename('min_diff'),\n",
    "    df_stat.loc['max'].set_index('key')['Flowdec'].rename('Fowdec PSF Max Value'),\n",
    "    df_stat.loc['min'].set_index('key')['Flowdec'].rename('flowdec PSF Min Value'),\n",
    "    df_stat.loc['max'].set_index('key')['PSFGenerator'].rename('PSFGenerator PSF Max Value'),\n",
    "    df_stat.loc['min'].set_index('key')['PSFGenerator'].rename('PSFGenerator PSF Max Value'),\n",
    "], axis=1)\n",
    "df_extrema['Absolute Max Difference'] = df_extrema[['min_diff', 'max_diff']].abs().max(axis=1)\n",
    "df_extrema = df_extrema.drop(['min_diff', 'max_diff'], axis=1)\n",
    "df_extrema"
   ]
  },
  {
   "cell_type": "code",
   "execution_count": 44,
   "metadata": {},
   "outputs": [
    {
     "data": {
      "text/plain": [
       "Text(0.5,1,'Dynamic Range of PSFs vs Largest Difference by Test Case')"
      ]
     },
     "execution_count": 44,
     "metadata": {},
     "output_type": "execute_result"
    },
    {
     "data": {
      "image/png": "[encoded data removed]",
      "text/plain": [
       "<Figure size 1296x432 with 1 Axes>"
      ]
     },
     "metadata": {},
     "output_type": "display_data"
    }
   ],
   "source": [
    "ax = df_extrema.sort_values('Absolute Max Difference').plot(figsize=(18, 6), kind='bar', legend='side')\n",
    "ax.set_yscale('log')\n",
    "ax.set_xlabel('Test Case')\n",
    "ax.set_ylabel('Voxel Value')\n",
    "ax.set_title('Dynamic Range of PSFs vs Largest Difference by Test Case')"
   ]
  }
 ],
 "metadata": {
  "kernelspec": {
   "display_name": "Python 3",
   "language": "python",
   "name": "python3"
  },
  "language_info": {
   "codemirror_mode": {
    "name": "ipython",
    "version": 3
   },
   "file_extension": ".py",
   "mimetype": "text/x-python",
   "name": "python",
   "nbconvert_exporter": "python",
   "pygments_lexer": "ipython3",
   "version": "3.6.5"
  }
 },
 "nbformat": 4,
 "nbformat_minor": 2
}
