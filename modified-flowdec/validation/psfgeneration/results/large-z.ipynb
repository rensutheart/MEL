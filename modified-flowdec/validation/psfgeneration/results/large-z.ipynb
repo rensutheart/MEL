{
 "cells": [
  {
   "cell_type": "markdown",
   "metadata": {
    "papermill": {
     "duration": 4.6e-05,
     "end_time": "2018-06-12T14:57:21.480583",
     "exception": false,
     "start_time": "2018-06-12T14:57:21.480537",
     "status": "completed"
    },
    "tags": []
   },
   "source": [
    "# PSF Generation Validation Template"
   ]
  },
  {
   "cell_type": "markdown",
   "metadata": {
    "papermill": {
     "duration": 1.9e-05,
     "end_time": "2018-06-12T14:57:21.489795",
     "exception": false,
     "start_time": "2018-06-12T14:57:21.489776",
     "status": "completed"
    },
    "tags": []
   },
   "source": [
    "### Parameters"
   ]
  },
  {
   "cell_type": "code",
   "execution_count": 1,
   "metadata": {
    "papermill": {
     "duration": 0.015767,
     "end_time": "2018-06-12T14:57:21.519429",
     "exception": false,
     "start_time": "2018-06-12T14:57:21.503662",
     "status": "completed"
    },
    "tags": []
   },
   "outputs": [],
   "source": [
    "# Debug\n",
    "# psf_args = '{\"pz\": 0}'"
   ]
  },
  {
   "cell_type": "code",
   "execution_count": 2,
   "metadata": {
    "papermill": {
     "duration": 0.0129,
     "end_time": "2018-06-12T14:57:21.532525",
     "exception": false,
     "start_time": "2018-06-12T14:57:21.519625",
     "status": "completed"
    },
    "tags": [
     "default parameters"
    ]
   },
   "outputs": [],
   "source": [
    "# Parameters\n",
    "psf_args = None"
   ]
  },
  {
   "cell_type": "code",
   "execution_count": 3,
   "metadata": {
    "papermill": {
     "duration": 0.011235,
     "end_time": "2018-06-12T14:57:21.544138",
     "exception": false,
     "start_time": "2018-06-12T14:57:21.532903",
     "status": "completed"
    },
    "tags": [
     "parameters"
    ]
   },
   "outputs": [],
   "source": [
    "# Parameters\n",
    "psf_args = \"{\\\"pz\\\": 0.0, \\\"size_x\\\": 32, \\\"size_y\\\": 64, \\\"size_z\\\": 128}\"\n"
   ]
  },
  {
   "cell_type": "code",
   "execution_count": 4,
   "metadata": {
    "papermill": {
     "duration": 0.012071,
     "end_time": "2018-06-12T14:57:21.557078",
     "exception": false,
     "start_time": "2018-06-12T14:57:21.545007",
     "status": "completed"
    },
    "tags": []
   },
   "outputs": [
    {
     "data": {
      "text/plain": [
       "{'pz': 0.0, 'size_x': 32, 'size_y': 64, 'size_z': 128}"
      ]
     },
     "execution_count": 4,
     "metadata": {},
     "output_type": "execute_result"
    }
   ],
   "source": [
    "# Parse parameters\n",
    "import json\n",
    "psf_args = json.loads(psf_args)\n",
    "psf_args"
   ]
  },
  {
   "cell_type": "markdown",
   "metadata": {
    "papermill": {
     "duration": 1e-05,
     "end_time": "2018-06-12T14:57:21.557256",
     "exception": false,
     "start_time": "2018-06-12T14:57:21.557246",
     "status": "completed"
    },
    "tags": []
   },
   "source": [
    "### Initialize"
   ]
  },
  {
   "cell_type": "code",
   "execution_count": 5,
   "metadata": {
    "papermill": {
     "duration": 1.001887,
     "end_time": "2018-06-12T14:57:22.569303",
     "exception": false,
     "start_time": "2018-06-12T14:57:21.567416",
     "status": "completed"
    },
    "tags": []
   },
   "outputs": [],
   "source": [
    "%run utils.py\n",
    "import os\n",
    "import os.path as osp\n",
    "import shutil\n",
    "import tempfile\n",
    "import numpy as np\n",
    "import scipy\n",
    "import pandas as pd\n",
    "import papermill as pm\n",
    "from skimage.measure import compare_ssim, compare_psnr\n",
    "from skimage.exposure import rescale_intensity\n",
    "import matplotlib.pyplot as plt\n",
    "from scipy.stats import describe\n",
    "from skimage import io\n",
    "from flowdec import psf as fd_psf\n",
    "import papermill as pm\n",
    "\n",
    "PSFGEN_JAR_PATH = osp.join(osp.expanduser('~/apps/psfgenerator'), 'PSFGenerator.jar')"
   ]
  },
  {
   "cell_type": "code",
   "execution_count": 6,
   "metadata": {
    "papermill": {
     "duration": 0.012587,
     "end_time": "2018-06-12T14:57:22.582426",
     "exception": false,
     "start_time": "2018-06-12T14:57:22.569839",
     "status": "completed"
    },
    "tags": []
   },
   "outputs": [
    {
     "data": {
      "text/plain": [
       "OrderedDict([('size_x', 32),\n",
       "             ('size_y', 64),\n",
       "             ('size_z', 128),\n",
       "             ('na', 1.4),\n",
       "             ('wavelength', 0.61),\n",
       "             ('m', 100),\n",
       "             ('ns', 1.33),\n",
       "             ('ng0', 1.5),\n",
       "             ('ng', None),\n",
       "             ('ni0', 1.5),\n",
       "             ('ni', None),\n",
       "             ('ti0', 150),\n",
       "             ('tg0', 170),\n",
       "             ('tg', None),\n",
       "             ('res_lateral', 0.1),\n",
       "             ('res_axial', 0.25),\n",
       "             ('pz', 0.0),\n",
       "             ('num_basis', 100),\n",
       "             ('num_samples', 1000),\n",
       "             ('oversampling', 2),\n",
       "             ('min_wavelength', 0.436)])"
      ]
     },
     "execution_count": 6,
     "metadata": {},
     "output_type": "execute_result"
    }
   ],
   "source": [
    "psf = fd_psf.GibsonLanni(**psf_args)\n",
    "psf.config"
   ]
  },
  {
   "cell_type": "markdown",
   "metadata": {
    "papermill": {
     "duration": 1.2e-05,
     "end_time": "2018-06-12T14:57:22.582757",
     "exception": false,
     "start_time": "2018-06-12T14:57:22.582745",
     "status": "completed"
    },
    "tags": []
   },
   "source": [
    "### Compute PSFs"
   ]
  },
  {
   "cell_type": "code",
   "execution_count": 7,
   "metadata": {
    "papermill": {
     "duration": 0.01323,
     "end_time": "2018-06-12T14:57:22.607640",
     "exception": false,
     "start_time": "2018-06-12T14:57:22.594410",
     "status": "completed"
    },
    "tags": []
   },
   "outputs": [],
   "source": [
    "def run_psfgenerator(config, mode, jar_path, delete_working_dir=True, dtype='64-bits'):\n",
    "    working_dir = tempfile.mkdtemp()\n",
    "    print('Using working directory:', working_dir)\n",
    "    cwd = os.getcwd()\n",
    "    try:\n",
    "        os.chdir(working_dir)\n",
    "        \n",
    "        # Convert the configuration for the given Flowdec PSF to a PSFGenerator config\n",
    "        psfg_config = flowdec_config_to_psfgenerator_config(config, mode=mode, dtype=dtype)\n",
    "        config_string = psfgenerator_config_to_string(psfg_config)\n",
    "        \n",
    "        # Write the config to a file\n",
    "        config_path = osp.join(working_dir, 'config.txt')\n",
    "        with open(config_path, 'w') as fd:\n",
    "            fd.write(config_string)\n",
    "\n",
    "        # Run PSFGenerator and read the output from it\n",
    "        !java -cp $jar_path PSFGenerator config.txt\n",
    "        output_path = osp.join(working_dir, 'PSF {}.tif'.format(mode))\n",
    "        res = io.imread(output_path)\n",
    "        \n",
    "        # Delete the working directory if requested\n",
    "        if delete_working_dir:\n",
    "            shutil.rmtree(working_dir)\n",
    "            \n",
    "        return res, psfg_config, working_dir\n",
    "    finally:\n",
    "        os.chdir(cwd)\n"
   ]
  },
  {
   "cell_type": "code",
   "execution_count": 8,
   "metadata": {
    "papermill": {
     "duration": 7.204167,
     "end_time": "2018-06-12T14:57:29.811877",
     "exception": false,
     "start_time": "2018-06-12T14:57:22.607710",
     "status": "completed"
    },
    "tags": []
   },
   "outputs": [
    {
     "name": "stdout",
     "output_type": "stream",
     "text": [
      "Using working directory: /var/folders/vc/j01b02990c7g90mw6v_dqpsw0000gn/T/tmpawv5iw55\n"
     ]
    },
    {
     "name": "stdout",
     "output_type": "stream",
     "text": [
      "Computing GL\r\n"
     ]
    },
    {
     "name": "stdout",
     "output_type": "stream",
     "text": [
      "Save PSF GL\r\n"
     ]
    }
   ],
   "source": [
    "pg_res, pg_conf, pg_dir = run_psfgenerator(psf.config, 'GL', PSFGEN_JAR_PATH)"
   ]
  },
  {
   "cell_type": "code",
   "execution_count": 9,
   "metadata": {
    "papermill": {
     "duration": 0.020327,
     "end_time": "2018-06-12T14:57:29.832967",
     "exception": false,
     "start_time": "2018-06-12T14:57:29.812640",
     "status": "completed"
    },
    "tags": []
   },
   "outputs": [
    {
     "data": {
      "text/plain": [
       "{'PSF-shortname': 'GL',\n",
       " 'ResLateral': 100.0,\n",
       " 'ResAxial': 250.0,\n",
       " 'NY': 64,\n",
       " 'NX': 32,\n",
       " 'NZ': 128,\n",
       " 'Type': '64-bits',\n",
       " 'NA': 1.4,\n",
       " 'LUT': 'Fire',\n",
       " 'Lambda': 610.0,\n",
       " 'Scale': 'Linear',\n",
       " 'psf-BW-NI': '1.5',\n",
       " 'psf-BW-accuracy': 'Good',\n",
       " 'psf-RW-NI': '1.5',\n",
       " 'psf-RW-accuracy': 'Good',\n",
       " 'psf-GL-NI': 1.5,\n",
       " 'psf-GL-NS': 1.33,\n",
       " 'psf-GL-accuracy': 'Best',\n",
       " 'psf-GL-ZPos': 0.0,\n",
       " 'psf-GL-TI': 150,\n",
       " 'psf-TV-NI': '1.5',\n",
       " 'psf-TV-ZPos': '2000.0',\n",
       " 'psf-TV-TI': '150.0',\n",
       " 'psf-TV-NS': '1.0',\n",
       " 'psf-Circular-Pupil-defocus': '100.0',\n",
       " 'psf-Circular-Pupil-axial': 'Linear',\n",
       " 'psf-Circular-Pupil-focus': '0.0',\n",
       " 'psf-Oriented-Gaussian-axial': 'Linear',\n",
       " 'psf-Oriented-Gaussian-focus': '0.0',\n",
       " 'psf-Oriented-Gaussian-defocus': '100.0',\n",
       " 'psf-Astigmatism-focus': '0.0',\n",
       " 'psf-Astigmatism-axial': 'Linear',\n",
       " 'psf-Astigmatism-defocus': '100.0',\n",
       " 'psf-Defocus-DBot': '30.0',\n",
       " 'psf-Defocus-ZI': '2000.0',\n",
       " 'psf-Defocus-DTop': '30.0',\n",
       " 'psf-Defocus-DMid': '1.0',\n",
       " 'psf-Defocus-K': '275.0',\n",
       " 'psf-Cardinale-Sine-axial': 'Linear',\n",
       " 'psf-Cardinale-Sine-defocus': '100.0',\n",
       " 'psf-Cardinale-Sine-focus': '0.0',\n",
       " 'psf-Lorentz-axial': 'Linear',\n",
       " 'psf-Lorentz-focus': '0.0',\n",
       " 'psf-Lorentz-defocus': '100.0',\n",
       " 'psf-Koehler-dMid': '3.0',\n",
       " 'psf-Koehler-dTop': '1.5',\n",
       " 'psf-Koehler-n1': '1.0',\n",
       " 'psf-Koehler-n0': '1.5',\n",
       " 'psf-Koehler-dBot': '6.0',\n",
       " 'psf-Double-Helix-defocus': '100.0',\n",
       " 'psf-Double-Helix-axial': 'Linear',\n",
       " 'psf-Double-Helix-focus': '0.0',\n",
       " 'psf-Gaussian-axial': 'Linear',\n",
       " 'psf-Gaussian-focus': '0.0',\n",
       " 'psf-Gaussian-defocus': '100.0',\n",
       " 'psf-Cosine-axial': 'Linear',\n",
       " 'psf-Cosine-focus': '0.0',\n",
       " 'psf-Cosine-defocus': '100.0',\n",
       " 'psf-VRIGL-NI': '1.5',\n",
       " 'psf-VRIGL-accuracy': 'Good',\n",
       " 'psf-VRIGL-NS2': '1.4',\n",
       " 'psf-VRIGL-NS1': '1.33',\n",
       " 'psf-VRIGL-TG': '170.0',\n",
       " 'psf-VRIGL-NG': '1.5',\n",
       " 'psf-VRIGL-TI': '150.0',\n",
       " 'psf-VRIGL-RIvary': 'Linear',\n",
       " 'psf-VRIGL-ZPos': '2000.0'}"
      ]
     },
     "execution_count": 9,
     "metadata": {},
     "output_type": "execute_result"
    }
   ],
   "source": [
    "pg_conf"
   ]
  },
  {
   "cell_type": "code",
   "execution_count": 10,
   "metadata": {
    "papermill": {
     "duration": 0.017882,
     "end_time": "2018-06-12T14:57:29.851218",
     "exception": false,
     "start_time": "2018-06-12T14:57:29.833336",
     "status": "completed"
    },
    "tags": []
   },
   "outputs": [
    {
     "data": {
      "text/plain": [
       "((128, 64, 32), dtype('float32'))"
      ]
     },
     "execution_count": 10,
     "metadata": {},
     "output_type": "execute_result"
    }
   ],
   "source": [
    "pg_res.shape, pg_res.dtype"
   ]
  },
  {
   "cell_type": "code",
   "execution_count": 11,
   "metadata": {
    "papermill": {
     "duration": 0.124472,
     "end_time": "2018-06-12T14:57:29.976173",
     "exception": false,
     "start_time": "2018-06-12T14:57:29.851701",
     "status": "completed"
    },
    "tags": []
   },
   "outputs": [],
   "source": [
    "fd_res = psf.generate().astype(np.float32)"
   ]
  },
  {
   "cell_type": "code",
   "execution_count": 12,
   "metadata": {
    "papermill": {
     "duration": 0.013079,
     "end_time": "2018-06-12T14:57:29.989868",
     "exception": false,
     "start_time": "2018-06-12T14:57:29.976789",
     "status": "completed"
    },
    "tags": []
   },
   "outputs": [
    {
     "data": {
      "text/plain": [
       "((128, 64, 32), dtype('float32'))"
      ]
     },
     "execution_count": 12,
     "metadata": {},
     "output_type": "execute_result"
    }
   ],
   "source": [
    "fd_res.shape, fd_res.dtype"
   ]
  },
  {
   "cell_type": "code",
   "execution_count": 13,
   "metadata": {
    "papermill": {
     "duration": 0.024642,
     "end_time": "2018-06-12T14:57:30.016497",
     "exception": false,
     "start_time": "2018-06-12T14:57:29.991855",
     "status": "completed"
    },
    "tags": []
   },
   "outputs": [
    {
     "data": {
      "text/plain": [
       "(DescribeResult(nobs=262144, minmax=(1.4842204e-06, 1.0), mean=0.0011968005, variance=5.9265243e-05, skewness=83.2482681274414, kurtosis=9469.854139897963),\n",
       " DescribeResult(nobs=262144, minmax=(1.484221e-06, 1.0), mean=0.0011968004, variance=5.9265243e-05, skewness=83.2482681274414, kurtosis=9469.854139897963))"
      ]
     },
     "execution_count": 13,
     "metadata": {},
     "output_type": "execute_result"
    }
   ],
   "source": [
    "describe(fd_res.ravel()), describe(pg_res.ravel())"
   ]
  },
  {
   "cell_type": "markdown",
   "metadata": {
    "papermill": {
     "duration": 1e-05,
     "end_time": "2018-06-12T14:57:30.016583",
     "exception": false,
     "start_time": "2018-06-12T14:57:30.016573",
     "status": "completed"
    },
    "tags": []
   },
   "source": [
    "### Visualize"
   ]
  },
  {
   "cell_type": "code",
   "execution_count": 14,
   "metadata": {
    "papermill": {
     "duration": 0.014695,
     "end_time": "2018-06-12T14:57:30.045133",
     "exception": false,
     "start_time": "2018-06-12T14:57:30.030438",
     "status": "completed"
    },
    "tags": []
   },
   "outputs": [],
   "source": [
    "def compare_orthogonal_views(img_fd, img_pg, pct=None, figsize=(16, 16), log=True):\n",
    "    fig, ax = plt.subplots(3, 2)\n",
    "    fig.set_size_inches(figsize)\n",
    "    \n",
    "    sh = img_fd.shape\n",
    "    crop_slice = [slice(None)] * 3\n",
    "    if pct:\n",
    "        m = np.array(sh) // 2\n",
    "        md = np.array(sh) // (1/pct)\n",
    "        crop_slice = [slice(int(m[i] - md[i]), int(m[i] + md[i])) for i in range(len(m))]\n",
    "        \n",
    "    ax_map = ['Z', 'Y', 'X']\n",
    "    for i in range(3):\n",
    "        im1, im2 = img_fd.max(axis=i), img_pg.max(axis=i)\n",
    "        if log:\n",
    "            im1, im2 = np.log(im1), np.log(im2)\n",
    "        ax[i][0].imshow(im1[[cs for j, cs in enumerate(crop_slice) if j != i]])\n",
    "        ax[i][0].set_title('Max {} Projection (Flowdec)'.format(ax_map[i]))\n",
    "        ax[i][1].imshow(im2[[cs for j, cs in enumerate(crop_slice) if j != i]])\n",
    "        ax[i][1].set_title('Max {} Projection (PSFGenerator)'.format(ax_map[i]))"
   ]
  },
  {
   "cell_type": "code",
   "execution_count": 15,
   "metadata": {
    "papermill": {
     "duration": 0.771272,
     "end_time": "2018-06-12T14:57:30.817096",
     "exception": false,
     "start_time": "2018-06-12T14:57:30.045824",
     "status": "completed"
    },
    "tags": []
   },
   "outputs": [
    {
     "data": {
      "image/png": "[encoded data removed]",
      "text/plain": [
       "<Figure size 1152x1152 with 6 Axes>"
      ]
     },
     "metadata": {},
     "output_type": "display_data"
    }
   ],
   "source": [
    "# Full PSF orthognal views (no zoom)\n",
    "compare_orthogonal_views(fd_res, pg_res, None)"
   ]
  },
  {
   "cell_type": "code",
   "execution_count": 16,
   "metadata": {
    "papermill": {
     "duration": 0.699595,
     "end_time": "2018-06-12T14:57:31.517274",
     "exception": false,
     "start_time": "2018-06-12T14:57:30.817679",
     "status": "completed"
    },
    "tags": []
   },
   "outputs": [
    {
     "data": {
      "image/png": "[encoded data removed]",
      "text/plain": [
       "<Figure size 1152x1152 with 6 Axes>"
      ]
     },
     "metadata": {},
     "output_type": "display_data"
    }
   ],
   "source": [
    "# PSF orthognal views at 50% zoom\n",
    "compare_orthogonal_views(fd_res, pg_res, .25, log=True)"
   ]
  },
  {
   "cell_type": "code",
   "execution_count": 17,
   "metadata": {
    "papermill": {
     "duration": 0.742109,
     "end_time": "2018-06-12T14:57:32.259908",
     "exception": false,
     "start_time": "2018-06-12T14:57:31.517799",
     "status": "completed"
    },
    "tags": []
   },
   "outputs": [
    {
     "data": {
      "image/png": "[encoded data removed]",
      "text/plain": [
       "<Figure size 1152x1152 with 6 Axes>"
      ]
     },
     "metadata": {},
     "output_type": "display_data"
    }
   ],
   "source": [
    "# PSF orthognal views at 25% zoom\n",
    "compare_orthogonal_views(fd_res, pg_res, .125, log=True)"
   ]
  },
  {
   "cell_type": "markdown",
   "metadata": {
    "papermill": {
     "duration": 1.1e-05,
     "end_time": "2018-06-12T14:57:32.261142",
     "exception": false,
     "start_time": "2018-06-12T14:57:32.261131",
     "status": "completed"
    },
    "tags": []
   },
   "source": [
    "### Quantify"
   ]
  },
  {
   "cell_type": "code",
   "execution_count": 18,
   "metadata": {
    "papermill": {
     "duration": 0.07896,
     "end_time": "2018-06-12T14:57:32.355502",
     "exception": false,
     "start_time": "2018-06-12T14:57:32.276542",
     "status": "completed"
    },
    "tags": []
   },
   "outputs": [
    {
     "data": {
      "application/papermill.record+json": {
       "df_original": {
        "Diff": {
         "25%": -2.9103830456733704e-11,
         "50%": 0.0,
         "75%": 2.9103830456733704e-11,
         "count": 262144.0,
         "max": 1.0969364666379988e-05,
         "mean": 6.91937895869188e-11,
         "min": -6.546120857819915e-06,
         "std": 1.3902285900257993e-07
        },
        "Flowdec": {
         "25%": 0.00022535801326739602,
         "50%": 0.0004334731202106923,
         "75%": 0.000995150301605463,
         "count": 262144.0,
         "max": 1.0,
         "mean": 0.00119680049829185,
         "min": 1.4842204336673603e-06,
         "std": 0.007698391564190388
        },
        "PSFGenerator": {
         "25%": 0.00022535801326739602,
         "50%": 0.0004334731202106923,
         "75%": 0.000995150301605463,
         "count": 262144.0,
         "max": 1.0,
         "mean": 0.00119680049829185,
         "min": 1.4842204336673603e-06,
         "std": 0.007698391564190388
        }
       }
      }
     },
     "metadata": {},
     "output_type": "display_data"
    },
    {
     "data": {
      "application/papermill.record+json": {
       "df_log": {
        "Diff": {
         "25%": 0.0,
         "50%": 0.0,
         "75%": 0.0,
         "count": 262144.0,
         "max": 0.07503128051757812,
         "mean": 5.711190169677138e-06,
         "min": -0.04629993438720703,
         "std": 0.0009477295097894967
        },
        "Flowdec": {
         "25%": -8.397820234298706,
         "50%": -7.743680953979492,
         "75%": -6.912616610527039,
         "count": 262144.0,
         "max": 0.0,
         "mean": -7.58255672454834,
         "min": -13.420620918273926,
         "std": 1.1112669706344604
        },
        "PSFGenerator": {
         "25%": -8.397820234298706,
         "50%": -7.743680953979492,
         "75%": -6.912616610527039,
         "count": 262144.0,
         "max": 0.0,
         "mean": -7.58255672454834,
         "min": -13.420620918273926,
         "std": 1.1112669706344604
        }
       }
      }
     },
     "metadata": {},
     "output_type": "display_data"
    }
   ],
   "source": [
    "def get_summary_df(fd_res, pg_res):\n",
    "    return pd.concat([\n",
    "        pd.Series(fd_res.ravel()).describe().rename('Flowdec'),\n",
    "        pd.Series(fd_res.ravel()).describe().rename('PSFGenerator'),\n",
    "        pd.Series((fd_res - pg_res).ravel()).describe().rename('Diff')\n",
    "    ], axis=1)\n",
    "    \n",
    "df_orig = get_summary_df(fd_res, pg_res)\n",
    "df_log = get_summary_df(np.log(fd_res), np.log(pg_res))\n",
    "\n",
    "pm.record('df_original', df_orig.to_dict())\n",
    "pm.record('df_log', df_log.to_dict())"
   ]
  },
  {
   "cell_type": "code",
   "execution_count": 19,
   "metadata": {
    "papermill": {
     "duration": 0.018014,
     "end_time": "2018-06-12T14:57:32.373603",
     "exception": false,
     "start_time": "2018-06-12T14:57:32.355589",
     "status": "completed"
    },
    "tags": []
   },
   "outputs": [
    {
     "data": {
      "text/html": [
       "<div>\n",
       "<style scoped>\n",
       "    .dataframe tbody tr th:only-of-type {\n",
       "        vertical-align: middle;\n",
       "    }\n",
       "\n",
       "    .dataframe tbody tr th {\n",
       "        vertical-align: top;\n",
       "    }\n",
       "\n",
       "    .dataframe thead th {\n",
       "        text-align: right;\n",
       "    }\n",
       "</style>\n",
       "<table border=\"1\" class=\"dataframe\">\n",
       "  <thead>\n",
       "    <tr style=\"text-align: right;\">\n",
       "      <th></th>\n",
       "      <th>Flowdec</th>\n",
       "      <th>PSFGenerator</th>\n",
       "      <th>Diff</th>\n",
       "    </tr>\n",
       "  </thead>\n",
       "  <tbody>\n",
       "    <tr>\n",
       "      <th>count</th>\n",
       "      <td>262144.000000</td>\n",
       "      <td>262144.000000</td>\n",
       "      <td>2.621440e+05</td>\n",
       "    </tr>\n",
       "    <tr>\n",
       "      <th>mean</th>\n",
       "      <td>0.001197</td>\n",
       "      <td>0.001197</td>\n",
       "      <td>6.919379e-11</td>\n",
       "    </tr>\n",
       "    <tr>\n",
       "      <th>std</th>\n",
       "      <td>0.007698</td>\n",
       "      <td>0.007698</td>\n",
       "      <td>1.390229e-07</td>\n",
       "    </tr>\n",
       "    <tr>\n",
       "      <th>min</th>\n",
       "      <td>0.000001</td>\n",
       "      <td>0.000001</td>\n",
       "      <td>-6.546121e-06</td>\n",
       "    </tr>\n",
       "    <tr>\n",
       "      <th>25%</th>\n",
       "      <td>0.000225</td>\n",
       "      <td>0.000225</td>\n",
       "      <td>-2.910383e-11</td>\n",
       "    </tr>\n",
       "    <tr>\n",
       "      <th>50%</th>\n",
       "      <td>0.000433</td>\n",
       "      <td>0.000433</td>\n",
       "      <td>0.000000e+00</td>\n",
       "    </tr>\n",
       "    <tr>\n",
       "      <th>75%</th>\n",
       "      <td>0.000995</td>\n",
       "      <td>0.000995</td>\n",
       "      <td>2.910383e-11</td>\n",
       "    </tr>\n",
       "    <tr>\n",
       "      <th>max</th>\n",
       "      <td>1.000000</td>\n",
       "      <td>1.000000</td>\n",
       "      <td>1.096936e-05</td>\n",
       "    </tr>\n",
       "  </tbody>\n",
       "</table>\n",
       "</div>"
      ],
      "text/plain": [
       "             Flowdec   PSFGenerator          Diff\n",
       "count  262144.000000  262144.000000  2.621440e+05\n",
       "mean        0.001197       0.001197  6.919379e-11\n",
       "std         0.007698       0.007698  1.390229e-07\n",
       "min         0.000001       0.000001 -6.546121e-06\n",
       "25%         0.000225       0.000225 -2.910383e-11\n",
       "50%         0.000433       0.000433  0.000000e+00\n",
       "75%         0.000995       0.000995  2.910383e-11\n",
       "max         1.000000       1.000000  1.096936e-05"
      ]
     },
     "execution_count": 19,
     "metadata": {},
     "output_type": "execute_result"
    }
   ],
   "source": [
    "df_orig"
   ]
  },
  {
   "cell_type": "code",
   "execution_count": 20,
   "metadata": {
    "papermill": {
     "duration": 0.019418,
     "end_time": "2018-06-12T14:57:32.393791",
     "exception": false,
     "start_time": "2018-06-12T14:57:32.374373",
     "status": "completed"
    },
    "tags": []
   },
   "outputs": [
    {
     "data": {
      "text/html": [
       "<div>\n",
       "<style scoped>\n",
       "    .dataframe tbody tr th:only-of-type {\n",
       "        vertical-align: middle;\n",
       "    }\n",
       "\n",
       "    .dataframe tbody tr th {\n",
       "        vertical-align: top;\n",
       "    }\n",
       "\n",
       "    .dataframe thead th {\n",
       "        text-align: right;\n",
       "    }\n",
       "</style>\n",
       "<table border=\"1\" class=\"dataframe\">\n",
       "  <thead>\n",
       "    <tr style=\"text-align: right;\">\n",
       "      <th></th>\n",
       "      <th>Flowdec</th>\n",
       "      <th>PSFGenerator</th>\n",
       "      <th>Diff</th>\n",
       "    </tr>\n",
       "  </thead>\n",
       "  <tbody>\n",
       "    <tr>\n",
       "      <th>count</th>\n",
       "      <td>262144.000000</td>\n",
       "      <td>262144.000000</td>\n",
       "      <td>262144.000000</td>\n",
       "    </tr>\n",
       "    <tr>\n",
       "      <th>mean</th>\n",
       "      <td>-7.582557</td>\n",
       "      <td>-7.582557</td>\n",
       "      <td>0.000006</td>\n",
       "    </tr>\n",
       "    <tr>\n",
       "      <th>std</th>\n",
       "      <td>1.111267</td>\n",
       "      <td>1.111267</td>\n",
       "      <td>0.000948</td>\n",
       "    </tr>\n",
       "    <tr>\n",
       "      <th>min</th>\n",
       "      <td>-13.420621</td>\n",
       "      <td>-13.420621</td>\n",
       "      <td>-0.046300</td>\n",
       "    </tr>\n",
       "    <tr>\n",
       "      <th>25%</th>\n",
       "      <td>-8.397820</td>\n",
       "      <td>-8.397820</td>\n",
       "      <td>0.000000</td>\n",
       "    </tr>\n",
       "    <tr>\n",
       "      <th>50%</th>\n",
       "      <td>-7.743681</td>\n",
       "      <td>-7.743681</td>\n",
       "      <td>0.000000</td>\n",
       "    </tr>\n",
       "    <tr>\n",
       "      <th>75%</th>\n",
       "      <td>-6.912617</td>\n",
       "      <td>-6.912617</td>\n",
       "      <td>0.000000</td>\n",
       "    </tr>\n",
       "    <tr>\n",
       "      <th>max</th>\n",
       "      <td>0.000000</td>\n",
       "      <td>0.000000</td>\n",
       "      <td>0.075031</td>\n",
       "    </tr>\n",
       "  </tbody>\n",
       "</table>\n",
       "</div>"
      ],
      "text/plain": [
       "             Flowdec   PSFGenerator           Diff\n",
       "count  262144.000000  262144.000000  262144.000000\n",
       "mean       -7.582557      -7.582557       0.000006\n",
       "std         1.111267       1.111267       0.000948\n",
       "min       -13.420621     -13.420621      -0.046300\n",
       "25%        -8.397820      -8.397820       0.000000\n",
       "50%        -7.743681      -7.743681       0.000000\n",
       "75%        -6.912617      -6.912617       0.000000\n",
       "max         0.000000       0.000000       0.075031"
      ]
     },
     "execution_count": 20,
     "metadata": {},
     "output_type": "execute_result"
    }
   ],
   "source": [
    "df_log"
   ]
  },
  {
   "cell_type": "code",
   "execution_count": 21,
   "metadata": {
    "papermill": {
     "duration": 0.095219,
     "end_time": "2018-06-12T14:57:32.489430",
     "exception": false,
     "start_time": "2018-06-12T14:57:32.394211",
     "status": "completed"
    },
    "tags": []
   },
   "outputs": [
    {
     "data": {
      "application/papermill.record+json": {
       "measures": {
        "psnr_log": 83.02161272953698,
        "psnr_original": 137.13829118670589,
        "ssim_log": 0.9999998547856583,
        "ssim_original": 0.9999999999993273
       }
      }
     },
     "metadata": {},
     "output_type": "display_data"
    },
    {
     "data": {
      "text/plain": [
       "{'ssim_original': 0.9999999999993273,\n",
       " 'psnr_original': 137.13829118670589,\n",
       " 'ssim_log': 0.9999998547856583,\n",
       " 'psnr_log': 83.02161272953698}"
      ]
     },
     "execution_count": 21,
     "metadata": {},
     "output_type": "execute_result"
    }
   ],
   "source": [
    "measures = {\n",
    "    'ssim_original': compare_ssim(fd_res, pg_res),\n",
    "    'psnr_original': compare_psnr(fd_res, pg_res),\n",
    "    'ssim_log': compare_ssim(\n",
    "        rescale_intensity(np.log(fd_res), out_range=(0, 1)), \n",
    "        rescale_intensity(np.log(pg_res), out_range=(0, 1))\n",
    "    ),\n",
    "    'psnr_log': compare_psnr(\n",
    "        rescale_intensity(np.log(fd_res), out_range=(0, 1)), \n",
    "        rescale_intensity(np.log(pg_res), out_range=(0, 1))\n",
    "    )\n",
    "}\n",
    "\n",
    "pm.record('measures', measures)\n",
    "\n",
    "measures"
   ]
  }
 ],
 "metadata": {
  "kernelspec": {
   "display_name": "Python 3",
   "language": "python",
   "name": "python3"
  },
  "language_info": {
   "codemirror_mode": {
    "name": "ipython",
    "version": 3
   },
   "file_extension": ".py",
   "mimetype": "text/x-python",
   "name": "python",
   "nbconvert_exporter": "python",
   "pygments_lexer": "ipython3",
   "version": "3.6.5"
  },
  "papermill": {
   "duration": 12.468287,
   "end_time": "2018-06-12T14:57:33.296662",
   "environment_variables": {},
   "exception": false,
   "output_path": "results/large-z.ipynb",
   "parameters": {
    "psf_args": "{\"pz\": 0.0, \"size_x\": 32, \"size_y\": 64, \"size_z\": 128}"
   },
   "start_time": "2018-06-12T14:57:20.828375",
   "version": "0.13.1"
  }
 },
 "nbformat": 4,
 "nbformat_minor": 2
}